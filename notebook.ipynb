{
 "cells": [
  {
   "cell_type": "markdown",
   "metadata": {},
   "source": [
    "## **DeppLearning Recap**"
   ]
  },
  {
   "cell_type": "markdown",
   "metadata": {},
   "source": [
    "1. 如何讀取相片\n",
    "2. 把載入的圖片顯示出來\n",
    "2. 如何看用圖片表示的 numpy"
   ]
  },
  {
   "cell_type": "markdown",
   "metadata": {},
   "source": [
    "Double-click __here__ for the solution.\n",
    "<!-- The correct answer is:\n",
    "import cv2\n",
    "img = cv2.imread('lena.png', cv2.IMREAD_COLOR)\n",
    "cv2.IMREAD_COLOR\n",
    "cv2.IMREAD_GRAYSCALE\n",
    "cv2.IMREAD_UNCHANGED (針對 RGBA 格式)\n",
    "\n",
    "\n",
    "cv2.waitkey(0)\n",
    "cv2.destroyAllWindows()\n",
    "\n",
    "type(img)\n",
    "-->"
   ]
  },
  {
   "cell_type": "markdown",
   "metadata": {},
   "source": []
  },
  {
   "cell_type": "markdown",
   "metadata": {},
   "source": []
  }
 ],
 "metadata": {
  "kernelspec": {
   "display_name": "Python 3",
   "language": "python",
   "name": "python3"
  },
  "language_info": {
   "codemirror_mode": {
    "name": "ipython",
    "version": 3
   },
   "file_extension": ".py",
   "mimetype": "text/x-python",
   "name": "python",
   "nbconvert_exporter": "python",
   "pygments_lexer": "ipython3",
   "version": "3.7.3"
  }
 },
 "nbformat": 4,
 "nbformat_minor": 4
}
